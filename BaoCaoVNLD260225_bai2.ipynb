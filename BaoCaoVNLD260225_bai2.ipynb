{
 "cells": [
  {
   "cell_type": "code",
   "execution_count": 3,
   "id": "45bb29da-4116-47cd-8884-e4ceee4e087a",
   "metadata": {},
   "outputs": [
    {
     "name": "stdout",
     "output_type": "stream",
     "text": [
      "False Positive Rate: 0.0558\n"
     ]
    },
    {
     "data": {
      "image/png": "[encoded data removed]",
      "text/plain": [
       "<Figure size 640x480 with 1 Axes>"
      ]
     },
     "metadata": {},
     "output_type": "display_data"
    }
   ],
   "source": [
    "import numpy as np\n",
    "import matplotlib.pyplot as plt\n",
    "from scipy.stats import norm\n",
    "import random\n",
    "\n",
    "# BÀI 2\n",
    "def data_generate_bai2(n,p,true_beta): \n",
    "    X= np.random.normal(loc=0, scale =1, size=(n,p))\n",
    "    true_beta=np.reshape(true_beta,(p,1))\n",
    "    noise= np.random.normal(loc=0,scale=1, size=(n,1))\n",
    "    y=np.dot(X,true_beta) + noise\n",
    "\n",
    "    return X,y\n",
    "\n",
    "def run():\n",
    "    n = 100\n",
    "    p = 5\n",
    "    true_beta = [0.0, 0.0, 0.0, 0.0, 0.0]\n",
    "\n",
    "    X, y =  data_generate_bai2(n, p, true_beta)\n",
    "    XTX= np.dot(X.T,X)\n",
    "    XTX_inver=np.linalg.inv(XTX)\n",
    "    XTX_inverXT=np.dot(XTX_inver,X.T)\n",
    "    beta_mu= np.dot(XTX_inverXT,y)\n",
    "\n",
    "    beta_j= random.choice(beta_mu)\n",
    "    T=beta_j.item()\n",
    "    #print(T)\n",
    "    for i in range(len(beta_mu)):\n",
    "        if np.isclose(beta_mu[i][0], T):\n",
    "            j= i\n",
    "            break\n",
    "    eta=XTX_inverXT[j].T\n",
    "    etaTy_obs=np.dot(eta.T,y)\n",
    "    Sigma_T=np.dot(eta.T,eta)\n",
    "    \n",
    "    cdf=norm.cdf(T,loc=0, scale=np.sqrt(np.dot(eta.T,eta)))\n",
    "    p_value=2*min(cdf,1-cdf)\n",
    "    return p_value\n",
    "    \n",
    "\n",
    "if __name__ =='__main__':\n",
    "    max_iteration = 5000\n",
    "    list_p_value = []\n",
    "\n",
    "    alpha = 0.05\n",
    "    count = 0\n",
    "\n",
    "    for _ in range(max_iteration):\n",
    "        p_value = run()\n",
    "        list_p_value.append(p_value)\n",
    "\n",
    "        if p_value <= alpha:\n",
    "            count = count + 1\n",
    "\n",
    "    print('False Positive Rate:', count / max_iteration)\n",
    "    plt.hist(list_p_value)\n",
    "    plt.show()"
   ]
  },
  {
   "cell_type": "code",
   "execution_count": null,
   "id": "13fbf97c-014f-4e82-a15f-e645f43b61a8",
   "metadata": {},
   "outputs": [],
   "source": []
  },
  {
   "cell_type": "code",
   "execution_count": 2,
   "id": "6189a7d4-c1a5-495f-a2de-4e87d42c7f3e",
   "metadata": {},
   "outputs": [
    {
     "name": "stdout",
     "output_type": "stream",
     "text": [
      "False Positive Rate: 0.121\n"
     ]
    },
    {
     "data": {
      "image/png": "[encoded data removed]",
      "text/plain": [
       "<Figure size 640x480 with 1 Axes>"
      ]
     },
     "metadata": {},
     "output_type": "display_data"
    }
   ],
   "source": [
    "# BÀI 2_STAR\n",
    "import numpy as np\n",
    "import matplotlib.pyplot as plt\n",
    "from scipy.stats import norm\n",
    "import random\n",
    "\n",
    "\n",
    "def data_generate_bai2(n,p,true_beta): \n",
    "    X= np.random.normal(loc=0, scale =1, size=(n,p))\n",
    "    true_beta=np.reshape(true_beta,(p,1))\n",
    "    noise= np.random.normal(loc=0,scale=1, size=(n,1))\n",
    "    y=np.dot(X,true_beta) + noise\n",
    "\n",
    "    return X,y\n",
    "\n",
    "def run():\n",
    "\n",
    "    n = 100\n",
    "    p = 5\n",
    "    true_beta = [0.0, 0.0, 0.0, 0.0, 0.0]\n",
    "\n",
    "    X, y =  data_generate_bai2(n, p, true_beta)\n",
    "    XTX= np.dot(X.T,X)\n",
    "    XTX_inver=np.linalg.inv(XTX)\n",
    "    XTX_inverXT=np.dot(XTX_inver,X.T)\n",
    "    beta_mu= np.dot(XTX_inverXT,y)\n",
    "    \n",
    "    j=np.argmax(beta_mu)\n",
    "    eta=XTX_inverXT[j].T\n",
    "    etaTy_obs=np.dot(eta.T,y).item()\n",
    "    Sigma_T=np.dot(eta.T,eta).item()\n",
    "\n",
    "    cdf=norm.cdf(etaTy_obs,loc=0, scale=np.sqrt(np.dot(eta.T,eta)))\n",
    "    p_value=2*min(cdf,1-cdf)\n",
    "    return p_value\n",
    "\n",
    "if __name__ =='__main__':\n",
    "    max_iteration = 1000\n",
    "    list_p_value = []\n",
    "\n",
    "    alpha = 0.05\n",
    "    count = 0\n",
    "\n",
    "    for _ in range(max_iteration):\n",
    "        p_value = run()\n",
    "        list_p_value.append(p_value)\n",
    "\n",
    "        if p_value <= alpha:\n",
    "            count = count + 1\n",
    "\n",
    "    print('False Positive Rate:', count / max_iteration)\n",
    "    plt.hist(list_p_value)\n",
    "    plt.show()"
   ]
  },
  {
   "cell_type": "code",
   "execution_count": null,
   "id": "22c47d54-be4a-4bf5-9052-cb93b7042339",
   "metadata": {},
   "outputs": [],
   "source": []
  }
 ],
 "metadata": {
  "kernelspec": {
   "display_name": "Python 3 (ipykernel)",
   "language": "python",
   "name": "python3"
  },
  "language_info": {
   "codemirror_mode": {
    "name": "ipython",
    "version": 3
   },
   "file_extension": ".py",
   "mimetype": "text/x-python",
   "name": "python",
   "nbconvert_exporter": "python",
   "pygments_lexer": "ipython3",
   "version": "3.13.1"
  }
 },
 "nbformat": 4,
 "nbformat_minor": 5
}
